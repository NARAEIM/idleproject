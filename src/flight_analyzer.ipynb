{
 "cells": [
  {
   "cell_type": "code",
   "execution_count": 22,
   "metadata": {},
   "outputs": [],
   "source": [
    "import pandas as pd\n",
    "df = pd.read_csv('flight_df.csv')\n",
    "df=df.drop(columns=' Flight info')\n",
    "df=df.drop(columns=' Flight time')\n"
   ]
  },
  {
   "cell_type": "code",
   "execution_count": 13,
   "metadata": {},
   "outputs": [],
   "source": [
    "from sklearn.metrics import mean_squared_error\n",
    "from sklearn.linear_model import LinearRegression\n",
    "from sklearn.metrics import r2_score"
   ]
  },
  {
   "cell_type": "code",
   "execution_count": 23,
   "metadata": {},
   "outputs": [],
   "source": [
    "from sklearn.preprocessing import OneHotEncoder\n",
    "enc = OneHotEncoder()\n",
    "\n",
    "df_encoded= df\n",
    "df_encoded[' Arrival time']=df_encoded[' Arrival time'].str.split(':').str[0].astype(int)\n",
    "df_encoded[' Departure time']=df_encoded[' Departure time'].str.split(':').str[0].astype(int)\n",
    "df_encoded[' Price']=df_encoded[' Price'].str.split(',').str[0].astype(int)*1000\n",
    "\n",
    "df_ohe=enc.fit_transform(df_encoded.drop(columns=' Price')).toarray()\n"
   ]
  },
  {
   "cell_type": "code",
   "execution_count": 24,
   "metadata": {},
   "outputs": [],
   "source": [
    "from sklearn.model_selection import train_test_split\n",
    "from sklearn.preprocessing import StandardScaler\n",
    "\n",
    "target = ' Price'\n",
    "train, test = train_test_split(\n",
    "    df_encoded, test_size=0.2, random_state=1\n",
    ")\n",
    "\n",
    "features = df_encoded.drop(columns=[target]).columns\n",
    "\n",
    "X_train = train[features]\n",
    "X_test = test[features]\n",
    "\n",
    "y_train = train[target]\n",
    "y_test = test[target]\n",
    "\n",
    "#scaler = StandardScaler()\n",
    "#X_train = scaler.fit_transform(X_train)\n",
    "#X_test = scaler.transform(X_test)"
   ]
  },
  {
   "cell_type": "code",
   "execution_count": 25,
   "metadata": {},
   "outputs": [],
   "source": [
    "from sklearn.model_selection import train_test_split\n",
    "from sklearn.preprocessing import StandardScaler\n",
    "\n",
    "target = ' Price'\n",
    "X_train, X_test, y_train, y_test  = train_test_split(\n",
    "    df_ohe, df_encoded[' Price'], test_size=0.2, random_state=1\n",
    ")"
   ]
  },
  {
   "cell_type": "code",
   "execution_count": 26,
   "metadata": {},
   "outputs": [
    {
     "name": "stdout",
     "output_type": "stream",
     "text": [
      "109358.83802574556\n",
      "0.4489568267089039\n"
     ]
    }
   ],
   "source": [
    "#LR\n",
    "lr = LinearRegression()\n",
    "lr.fit(X_train, y_train)\n",
    "\n",
    "y_pred = lr.predict(X_test)\n",
    "\n",
    "print(mean_squared_error(y_pred, y_test, squared = False))\n",
    "print(r2_score(y_test, y_pred))\n"
   ]
  },
  {
   "cell_type": "code",
   "execution_count": 30,
   "metadata": {},
   "outputs": [
    {
     "name": "stdout",
     "output_type": "stream",
     "text": [
      "-0.10769468220073719\n"
     ]
    }
   ],
   "source": [
    "#OLS\n",
    "\n",
    "from statsmodels.formula.api import ols\n",
    "from statsmodels.regression.linear_model import OLS\n",
    "model = OLS(y_train, X_train)\n",
    "result = model.fit()\n",
    "y_pred = result.predict(X_test)\n",
    "print(r2_score(y_pred, y_test))"
   ]
  }
 ],
 "metadata": {
  "kernelspec": {
   "display_name": "pytest",
   "language": "python",
   "name": "python3"
  },
  "language_info": {
   "codemirror_mode": {
    "name": "ipython",
    "version": 3
   },
   "file_extension": ".py",
   "mimetype": "text/x-python",
   "name": "python",
   "nbconvert_exporter": "python",
   "pygments_lexer": "ipython3",
   "version": "3.8.16"
  },
  "orig_nbformat": 4
 },
 "nbformat": 4,
 "nbformat_minor": 2
}
