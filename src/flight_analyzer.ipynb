{
 "cells": [
  {
   "cell_type": "code",
   "execution_count": 70,
   "metadata": {},
   "outputs": [],
   "source": [
    "from sklearn.metrics import mean_squared_error\n",
    "from sklearn.linear_model import LinearRegression\n",
    "from sklearn.metrics import r2_score\n",
    "import pandas as pd\n",
    "df = pd.read_csv('flight_df.csv')\n",
    "df=df.drop(columns=' Flight info')\n",
    "df=df.drop(columns=' Flight time')\n"
   ]
  },
  {
   "cell_type": "code",
   "execution_count": 71,
   "metadata": {},
   "outputs": [],
   "source": [
    "from sklearn.preprocessing import OneHotEncoder\n",
    "enc = OneHotEncoder()\n",
    "\n",
    "df_encoded= df\n",
    "df_encoded['Date']=(df_encoded['Date']*100)//100+((df_encoded['Date']*100).mod(100)//7)/10 #월/일이 아니라 월/주로 분리\n",
    "df_encoded[' Arrival time']=df_encoded[' Arrival time'].str.split(':').str[0].astype(int)\n",
    "df_encoded[' Departure time']=df_encoded[' Departure time'].str.split(':').str[0].astype(int)\n",
    "df_encoded[' Price']=df_encoded[' Price'].str.split(',').str[0].astype(int)*1000\n",
    "\n",
    "df_ohe=enc.fit_transform(df_encoded.drop(columns=' Price')).toarray()\n"
   ]
  },
  {
   "cell_type": "code",
   "execution_count": 72,
   "metadata": {},
   "outputs": [],
   "source": [
    "from sklearn.model_selection import train_test_split\n",
    "from sklearn.preprocessing import StandardScaler\n",
    "\n",
    "target = ' Price'\n",
    "X_train, X_test, y_train, y_test  = train_test_split(\n",
    "    df_ohe, df_encoded[' Price'], test_size=0.2, random_state=1\n",
    ")"
   ]
  },
  {
   "cell_type": "code",
   "execution_count": 73,
   "metadata": {},
   "outputs": [
    {
     "name": "stdout",
     "output_type": "stream",
     "text": [
      "109139.80907649004\n",
      "0.4511619258712718\n"
     ]
    }
   ],
   "source": [
    "#LR\n",
    "lr = LinearRegression()\n",
    "lr.fit(X_train, y_train)\n",
    "\n",
    "y_pred = lr.predict(X_test)\n",
    "\n",
    "print(mean_squared_error(y_pred, y_test, squared = False))\n",
    "print(r2_score(y_test, y_pred))\n"
   ]
  },
  {
   "cell_type": "code",
   "execution_count": 30,
   "metadata": {},
   "outputs": [
    {
     "name": "stdout",
     "output_type": "stream",
     "text": [
      "-0.10769468220073719\n"
     ]
    }
   ],
   "source": [
    "#OLS\n",
    "\n",
    "from statsmodels.formula.api import ols\n",
    "from statsmodels.regression.linear_model import OLS\n",
    "model = OLS(y_train, X_train)\n",
    "result = model.fit()\n",
    "y_pred = result.predict(X_test)\n",
    "print(r2_score(y_pred, y_test))"
   ]
  },
  {
   "cell_type": "code",
   "execution_count": 69,
   "metadata": {},
   "outputs": [
    {
     "name": "stdout",
     "output_type": "stream",
     "text": [
      "0.43144437486062814\n"
     ]
    }
   ],
   "source": [
    "#Experiment\n",
    "\n",
    "df = pd.read_csv('flight_df.csv')\n",
    "df=df.drop(columns=' Flight info')\n",
    "df=df.drop(columns=' Flight time')\n",
    "#df=df.drop(columns=' Departure time')\n",
    "df=df.drop(columns=' Arrival time')\n",
    "\n",
    "\n",
    "####\n",
    "enc = OneHotEncoder()\n",
    "\n",
    "df_encoded= df\n",
    "df_encoded['Date']=(df_encoded['Date']*100)//100+((df_encoded['Date']*100).mod(100)//7)/10 #월/일이 아니라 월/주로 분리\n",
    "#df_encoded[' Arrival time']=df_encoded[' Arrival time'].str.split(':').str[0].astype(int)\n",
    "df_encoded[' Departure time']=df_encoded[' Departure time'].str.split(':').str[0].astype(int)\n",
    "df_encoded[' Price']=df_encoded[' Price'].str.split(',').str[0].astype(int)*1000\n",
    "\n",
    "df_ohe=enc.fit_transform(df_encoded.drop(columns=' Price')).toarray()\n",
    "\n",
    "#####\n",
    "target = ' Price'\n",
    "X_train, X_test, y_train, y_test  = train_test_split(\n",
    "    df_ohe, df_encoded[' Price'], test_size=0.2, random_state=1\n",
    ")\n",
    "\n",
    "\n",
    "lr = LinearRegression()\n",
    "lr.fit(X_train, y_train)\n",
    "\n",
    "y_pred = lr.predict(X_test)\n",
    "\n",
    "print(r2_score(y_test, y_pred))\n"
   ]
  },
  {
   "cell_type": "code",
   "execution_count": null,
   "metadata": {},
   "outputs": [],
   "source": [
    "#Arrival 빼고: 0.43144437486062814\n",
    "#Departure 빼고: 0.410816052709579"
   ]
  }
 ],
 "metadata": {
  "kernelspec": {
   "display_name": "pytest",
   "language": "python",
   "name": "python3"
  },
  "language_info": {
   "codemirror_mode": {
    "name": "ipython",
    "version": 3
   },
   "file_extension": ".py",
   "mimetype": "text/x-python",
   "name": "python",
   "nbconvert_exporter": "python",
   "pygments_lexer": "ipython3",
   "version": "3.8.16"
  },
  "orig_nbformat": 4
 },
 "nbformat": 4,
 "nbformat_minor": 2
}
